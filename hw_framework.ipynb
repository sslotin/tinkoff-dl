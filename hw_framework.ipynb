{
 "cells": [
  {
   "cell_type": "markdown",
   "metadata": {},
   "source": [
    "# PyTorch своими руками"
   ]
  },
  {
   "cell_type": "code",
   "execution_count": 2,
   "metadata": {},
   "outputs": [],
   "source": [
    "# только numpy, только хардкор\n",
    "import numpy as np"
   ]
  },
  {
   "cell_type": "markdown",
   "metadata": {},
   "source": [
    "Слои — это такие элементарные блоки, из которых состоят нейросети. Конечным пользователям вашего фреймворка не хочется думать, как они работают. Им просто хочется объевить последовательность операций над входными данными, а о градиентах и прочем матане пусть фреймворк позаботится.\n",
    "\n",
    "**Module** — это абстрактный класс, от которого будут наследоваться слои нашей нейронной сети. Абстрактные классы нужны, чтобы можно было реализовывать не все методы, а только переопределить некоторые. Все в лучших традициях ООП.\n",
    "\n",
    "Модуль — это такая чёрная коробка, которая\n",
    "1. Умеет принимать какие-то входные данные $X$ и возращать какие-то выходные данные $Y$ (`forward`)\n",
    "2. Возможно, имеет какие-то параметры, которые можно изменять, (`parameters`, `grad_parameters`)\n",
    "3. Будучи встроенной в вычислительный граф, умеет по градиенту относительно своих выходных значений вычислять градиент относительно входных данных, а также собственных параметров (`backward`)\n",
    "4. Умеет переключаться в режимы обучения и инференса, если они отличаются (`train`, `eval`)\n",
    "\n",
    "Теперь поподробнее."
   ]
  },
  {
   "cell_type": "markdown",
   "metadata": {},
   "source": [
    "## Входные данные\n",
    "\n",
    "Слой можно рассматривать как функцию, которая принимает и возвращает вектора из действительных чисел.\n",
    "\n",
    "Современный нейросети оптимизируют различными вариантами *стохастического градиентного спуска*, и мы тоже будем его использовать. Его отличие от обычного в том, что для оценки градиента на каждом шаге рассматривается не весь датасет, а лишь его маленькая часть, которую называют батчем (`batch`). Если батч формировать случайно, и если его размер достаточно большой, то мы можем быстро получить немного шумную, но примлимую оценку градиента, а не прогонять через сеть все миллионы примеров ради одного шажка. Эта интуиция ограничивает размер батча сверху.\n",
    "\n",
    "Математик бы принял время прогона одного примера по всей сети за константу и пришел бы к выводу, что нужно считать по одному примеру и делать каждый раз один шаг, но маленький. Это верное заключение, но в реальности, если увеличить размер батча в $k$ раз, то он будет работать не в $k$ раз дольше, а намного меньше."
   ]
  },
  {
   "cell_type": "markdown",
   "metadata": {},
   "source": [
    "Самая долгая операция в большинстве нейросетей — это перемножение матриц. Начиная с каких-то размеров матриц для их перемножения имеет ммысл использовать алгоритм Штрассена, который работает уже быстрее, чем линейно. Проведем небольшой вычислительный эксперимент."
   ]
  },
  {
   "cell_type": "code",
   "execution_count": 47,
   "metadata": {},
   "outputs": [
    {
     "name": "stdout",
     "output_type": "stream",
     "text": [
      "CPU times: user 964 ms, sys: 57.1 ms, total: 1.02 s\n",
      "Wall time: 263 ms\n",
      "CPU times: user 164 ms, sys: 13 ms, total: 177 ms\n",
      "Wall time: 45.5 ms\n"
     ]
    }
   ],
   "source": [
    "A = np.random.randn(256, 2000)\n",
    "B = np.random.randn(2000, 800)\n",
    "\n",
    "%time C = np.stack(np.dot(A[i].T, B) for i in range(256))\n",
    "\n",
    "%time C = np.dot(A, B)"
   ]
  },
  {
   "cell_type": "markdown",
   "metadata": {},
   "source": [
    "Такая чисто вычислительная причина ограничивает размер батча снизу. На практике, в большинстве случаев оптимальный размер батча — несколько сотен. В случае с CPU это несколько десятков, потому что выгода от распараллеливания вычислений не такая сильная.\n",
    "\n",
    "Данные мы тоже будем подавать как матрицы, а не вектора. Вообще, более сложные нейросети по-другому кодируют свои данные (например, картинки — это четырехмерный тензор: `[batch, channel, x, y]`).\n",
    "\n",
    "«тензор» это, вообще говоря, сложный математический объект, но в DL этот термин используется просто в занчении «многомерный массив»."
   ]
  },
  {
   "cell_type": "markdown",
   "metadata": {},
   "source": [
    "В конце вычислительного графа всегда функция потерь, которую в итоге нужно минимизировать."
   ]
  },
  {
   "cell_type": "markdown",
   "metadata": {},
   "source": [
    "Параметр — это что-то, что можно обучать. Он должен быть доступен оптимизатору, а оптимизатор не должен знать, как всё у нас внутри работает. Поэтому градиенты считать тоже нужно нам."
   ]
  },
  {
   "cell_type": "markdown",
   "metadata": {},
   "source": [
    "### Forward\n",
    "\n",
    "**Важно**: нам для `backward` будет намного проще сохранять `output`, посчитанный во время `forward`."
   ]
  },
  {
   "cell_type": "markdown",
   "metadata": {},
   "source": [
    "### Backward\n",
    "\n",
    "Обратный прогон долен делать две вещи:\n",
    "\n",
    "1. Посчитать и сложить"
   ]
  },
  {
   "cell_type": "markdown",
   "metadata": {},
   "source": [
    "### train / eval\n",
    "\n",
    "Некоторые слои ведут себя по-разному при обучении и реальных прогонах.\n",
    "\n",
    "По сути, нужно просто написать два разных forward-а для обучения и инференса.\n",
    "\n",
    "Например, `BatchNorm` и `DropOut`."
   ]
  },
  {
   "cell_type": "code",
   "execution_count": 2,
   "metadata": {},
   "outputs": [],
   "source": [
    "class Module():\n",
    "    def __init__(self):\n",
    "        self._train = True\n",
    "    \n",
    "    def forward(self, input):\n",
    "        raise NotImplementedError\n",
    "\n",
    "    def backward(self,input, grad_output):\n",
    "        raise NotImplementedError\n",
    "    \n",
    "    def parameters(self):\n",
    "        'Возвращает список собственных параметров.'\n",
    "        return []\n",
    "    \n",
    "    def grad_parameters(self):\n",
    "        'Возвращает список тензоров-градиентов для своих параметров.'\n",
    "        return []\n",
    "    \n",
    "    def train(self):\n",
    "        self._train = True\n",
    "    \n",
    "    def eval(self):\n",
    "        self._train = False"
   ]
  },
  {
   "cell_type": "markdown",
   "metadata": {},
   "source": [
    "Это **абстрактный класс** — от него наследуются другие, в которых есть настоящая реализация."
   ]
  },
  {
   "cell_type": "markdown",
   "metadata": {},
   "source": [
    "# Sequential"
   ]
  },
  {
   "cell_type": "markdown",
   "metadata": {},
   "source": [
    "**Sequential** будет оборачивать список модулей и выполнять их последовательно.\n",
    "\n",
    "Это своего рода контейнер, внутри которого есть какой-то пайплайн.\n",
    "\n",
    "Можно даже засовывать один Sequential внутри другого."
   ]
  },
  {
   "cell_type": "markdown",
   "metadata": {},
   "source": [
    "Многие не знают, но в питоне почти всегда для итерирования используется не **deep copy**, а **shallow copy**. Это делается для экономии памяти."
   ]
  },
  {
   "cell_type": "code",
   "execution_count": 3,
   "metadata": {},
   "outputs": [],
   "source": [
    "class Sequential(Module):\n",
    "    def __init__ (self, *layers):\n",
    "        super().__init__()\n",
    "        self.layers = layers\n",
    "\n",
    "    def forward(self, input):\n",
    "        \"\"\"\n",
    "        Прогоните данные последовательно по всем слоям:\n",
    "        \n",
    "            y[0] = layers[0].forward(input)\n",
    "            y[1] = layers[1].forward(y_0)\n",
    "            ...\n",
    "            output = module[n-1].forward(y[n-2])   \n",
    "            \n",
    "        Это должен быть просто небольшой цикл: for layer in layers...\n",
    "        \n",
    "        Хранить выводы ещё раз не надо: вспомните -- они сохраняются внутри слоев после forward.\n",
    "        \"\"\"\n",
    "\n",
    "        # ...\n",
    "        \n",
    "        return self.output\n",
    "\n",
    "    def backward(self, input, grad_output):\n",
    "        \"\"\"\n",
    "        Backward -- это как forward, только наоборот. (с)\n",
    "        \n",
    "        Предназначение backward — посчитать посчитать градиенты для собственных параметров и передать градиент относительно своего входа.\n",
    "        \n",
    "        Внутри параметров модули сами позаботятся о своих параметрах. Нам же нужно позаботиться о передачи градиента.\n",
    "         \n",
    "            g[n-1] = layers[n-1].backward(y[n-2], grad_output)\n",
    "            g[n-2] = layers[n-2].backward(y[n-3], g[n-1])\n",
    "            ...\n",
    "            g[1] = layers[1].backward(y[0], g[2])   \n",
    "            grad_input = layers[0].backward(input, g[1])\n",
    "        \n",
    "        Тут цикл будет уже посложнее.\n",
    "        \"\"\"\n",
    "        # ...\n",
    "        \n",
    "        return grad_input\n",
    "      \n",
    "    def parameters(self):\n",
    "        'Можно просто сконкатенировать все параметры в один список.'\n",
    "        return [l.parameters() for l in self.layers]\n",
    "    \n",
    "    def grad_parameters(self):\n",
    "        'Можно просто сконкатенировать все градиенты в один список.'\n",
    "        return [l.grad_parameters() for l in self.layers]"
   ]
  },
  {
   "cell_type": "markdown",
   "metadata": {},
   "source": [
    "# Слои"
   ]
  },
  {
   "cell_type": "markdown",
   "metadata": {},
   "source": [
    "Приступим к реализации содержательной части — самих слоев."
   ]
  },
  {
   "cell_type": "markdown",
   "metadata": {},
   "source": [
    "Работать мы будем с векторами.\n",
    "\n",
    "Все операции обучно формулируются так, что они не зависят друг от друга (кроме `BatchNorm`, но об этом позже).\n",
    "\n",
    "Во всех фреймворках . Мы тоже будем привыкать к этому."
   ]
  },
  {
   "cell_type": "markdown",
   "metadata": {},
   "source": [
    "Начнем с основного: линейный слой. Он же афинный, он же fully-conected."
   ]
  },
  {
   "cell_type": "markdown",
   "metadata": {},
   "source": [
    "На вход всех слоев будет подаваться матрица размера `batch_size` $\\times$ `n_features`."
   ]
  },
  {
   "cell_type": "code",
   "execution_count": 4,
   "metadata": {},
   "outputs": [],
   "source": [
    "class Linear(Module):\n",
    "    def __init__(self, dim_in, dim_out):\n",
    "        super().__init__()\n",
    "       \n",
    "        # на самом деле, очень важно, как оно инициализируется\n",
    "        stdv = 1./np.sqrt(n_in)\n",
    "        self.W = np.random.uniform(-stdv, stdv, size=(dim_out, dim_in))\n",
    "        self.b = np.random.uniform(-stdv, stdv, size=dim_out)\n",
    "        \n",
    "    def forward(self, input):\n",
    "        # ...      \n",
    "        return self.output\n",
    "    \n",
    "    def backward(self, input, grad_output):\n",
    "        # ...\n",
    "        return grad_input\n",
    "    \n",
    "    def parameters(self):\n",
    "        return [self.W, self.b]\n",
    "    \n",
    "    def grad_parameters(self):\n",
    "        return [self.grad_W, self.grad_b]"
   ]
  },
  {
   "cell_type": "markdown",
   "metadata": {},
   "source": [
    "## Функции активации"
   ]
  },
  {
   "cell_type": "markdown",
   "metadata": {},
   "source": [
    "**ReLU** — одна из самых простых функций активации:\n",
    "\n",
    "$$\n",
    "ReLU(x) = \\begin{cases}\n",
    "\n",
    "\\end{cases}\n",
    "$$\n",
    "\n",
    "`ReLU` очень простой, поэтому автору не жалко его реализовать за вас:"
   ]
  },
  {
   "cell_type": "code",
   "execution_count": 8,
   "metadata": {
    "collapsed": true
   },
   "outputs": [],
   "source": [
    "class ReLU(Module):\n",
    "    def __init__(self):\n",
    "         super().__init__()\n",
    "    \n",
    "    def forward(self, input):\n",
    "        self.output = np.maximum(input, 0)\n",
    "        return self.output\n",
    "    \n",
    "    def backward(self, input, grad_output):\n",
    "        grad_input = np.multiply(grad_output, input > 0)\n",
    "        return grad_input"
   ]
  },
  {
   "cell_type": "markdown",
   "metadata": {},
   "source": [
    "У ReLU есть проблема — у него бесполезная нулевая производная при $x < 0$.\n",
    "\n",
    "Implement [**Leaky Rectified Linear Unit**](http://en.wikipedia.org/wiki%2FRectifier_%28neural_networks%29%23Leaky_ReLUs). Expriment with slope. "
   ]
  },
  {
   "cell_type": "code",
   "execution_count": 9,
   "metadata": {},
   "outputs": [],
   "source": [
    "class LeakyReLU(Module):\n",
    "    def __init__(self, slope=0.03):\n",
    "        super().__init__()\n",
    "            \n",
    "        self.slope = slope\n",
    "        \n",
    "    def forward(self, input):\n",
    "        # ...\n",
    "        return self.output\n",
    "    \n",
    "    def backward(self, input, grad_output):\n",
    "        # ...\n",
    "        return grad_input"
   ]
  },
  {
   "cell_type": "markdown",
   "metadata": {},
   "source": [
    "Софтмакс — самый сложный с точки зрения написания `backward`. Хотя, как и все, занимает 5 строчек.\n",
    "\n",
    "$$ SoftMax(x_k) = \\frac{e^{x_k}}{\\sum_{i=1}^n e^{x_i} }$$"
   ]
  },
  {
   "cell_type": "code",
   "execution_count": null,
   "metadata": {},
   "outputs": [],
   "source": [
    "class SoftMax(Module):\n",
    "    def __init__(self):\n",
    "         super().__init__()\n",
    "    \n",
    "    def forward(self, input):\n",
    "        # важная деталь: если входы большие,\n",
    "        # то экспоненты будут ещё больше\n",
    "        self.output = np.subtract(input, input.max(axis=1, keepdims=True))\n",
    "        \n",
    "        # ...\n",
    "        return self.output\n",
    "    \n",
    "    def backward(self, input, grad_output):\n",
    "        # ...\n",
    "        return grad_input"
   ]
  },
  {
   "cell_type": "markdown",
   "metadata": {},
   "source": [
    "## Регуляризация"
   ]
  },
  {
   "cell_type": "markdown",
   "metadata": {},
   "source": [
    "Реализуйте [**дропаут**](https://www.cs.toronto.edu/~hinton/absps/JMLRdropout.pdf). Идея простая: просто помножьте входные данные на случайную маску того же размера. Сгенерировать маску можно через `np.random.binomial`.\n",
    "\n",
    "Дропаут клёвый, и его обычно хватает как единственного регуляризатора. Если вы заметите, что сеть оверфитится — просто добавьте его побольше.\n",
    "\n",
    "Заметитьте, что у него разное поведение в `train` и `eval` режимах. При `eval` он не должен делать ничего, а в `train` помимо маски нужно ещё домножить вход на $\\frac{1}{1-p}$, чтобы ожидание не изменилось."
   ]
  },
  {
   "cell_type": "code",
   "execution_count": null,
   "metadata": {},
   "outputs": [],
   "source": [
    "class Dropout(Module):\n",
    "    def __init__(self, p=0.5):\n",
    "        super().__init__()\n",
    "        \n",
    "        self.p = p\n",
    "        self.mask = None\n",
    "        \n",
    "    def forward(self, input):\n",
    "        self.output = \n",
    "        mask = # ...\n",
    "        self.output = # ...\n",
    "        return self.output\n",
    "    \n",
    "    def backward(self, input, grad_output):\n",
    "        # ...\n",
    "        return grad_input"
   ]
  },
  {
   "cell_type": "markdown",
   "metadata": {},
   "source": [
    "## Критерии"
   ]
  },
  {
   "cell_type": "markdown",
   "metadata": {},
   "source": [
    "Критерии — это специальные функции, которые меряют качество, имея реальные данные и предсказанные.\n",
    "\n",
    "По сути это тоже модули. Их следует отделять от модулей, котому что у них нет `train` / `eval`, а `backward` не требует `grad_output` — эта вершина и так конечная в вычислительном графе.\n",
    "\n",
    "Также нам не понадобится сохранять output."
   ]
  },
  {
   "cell_type": "code",
   "execution_count": 8,
   "metadata": {},
   "outputs": [],
   "source": [
    "class Criterion():        \n",
    "    def forward(self, input, target):\n",
    "        raise NotImplementedError\n",
    "\n",
    "    def backward(self, input, target):\n",
    "        raise NotImplementedError"
   ]
  },
  {
   "cell_type": "markdown",
   "metadata": {},
   "source": [
    "Реализуем $L_2$-норму: просто средняя квадратичная ошибка.\n",
    "\n",
    "Обратите внимание, что в критериях мы делим итоговую цифру на размер батча — мы не хотим, чтобы функция потерь зависела от количества примеров."
   ]
  },
  {
   "cell_type": "code",
   "execution_count": 5,
   "metadata": {},
   "outputs": [],
   "source": [
    "import numpy as np"
   ]
  },
  {
   "cell_type": "code",
   "execution_count": 9,
   "metadata": {},
   "outputs": [],
   "source": [
    "class MSE(Criterion):\n",
    "    def forward(self, input, target):\n",
    "        batch_size = input.shape[0]\n",
    "        self.output = np.sum(np.power(input - target, 2)) / batch_size\n",
    "        return self.output\n",
    " \n",
    "    def backward(self, input, target):\n",
    "        self.grad_output  = (input - target) * 2 / input.shape[0]\n",
    "        return self.grad_output"
   ]
  },
  {
   "cell_type": "markdown",
   "metadata": {},
   "source": [
    "Ваша задача посложнее: вам нужно реализовать кроссэнтропию — стандартная функция потерь для классификации.\n",
    "\n",
    "Помните, что лэйблы в one-hot.\n",
    "\n",
    "Напоминаем интуицию за принципом максимального правдоподобия: максимизируем произведение прсказанных вероятностей реальных событий $ L = \\prod p_i $.\n",
    "\n",
    "Произведение оптимизировать очень не удобно, и поэтому воспользуемся следующим трюком: возьмем логарифм (любой, ведь все логарифмы отличаются в константу раз) и будем максимизировать сумму:\n",
    "\n",
    "$$ \\log L = \\log \\prod p_i = \\sum \\log p_i $$\n",
    "\n",
    "Эту штуку называют кроссэнтропией. Такое название пошло из теории информации, но нам пока знать это не надо.\n",
    "\n",
    "Для удобноства вместо чисел — от 0 до 9 — сконвертируем их в вектора размера 10, где будет стоять единица в нужном месте (такая кодировка называется one-hot)."
   ]
  },
  {
   "cell_type": "code",
   "execution_count": 14,
   "metadata": {
    "collapsed": true
   },
   "outputs": [],
   "source": [
    "class CrossEntropy(Criterion):\n",
    "    def __init__(self):\n",
    "        super().__init__()\n",
    "        \n",
    "    def forward(self, input, target): \n",
    "        # можно сделать такой трюк, чтобы нигде не было взятий логарифма от нуля:\n",
    "        eps = 1e-9\n",
    "        input_clamp = np.clip(input, eps, 1 - eps)\n",
    "        \n",
    "        # ...\n",
    "        return self.output\n",
    "\n",
    "    def backward(self, input, target):\n",
    "        # опять же, больба с численными ошибками\n",
    "        input_clamp = np.maximum(1e-15, np.minimum(input, 1 - 1e-15) )\n",
    "                \n",
    "        # ....\n",
    "        return grad_input"
   ]
  }
 ],
 "metadata": {
  "kernelspec": {
   "display_name": "Python 3",
   "language": "python",
   "name": "python3"
  },
  "language_info": {
   "codemirror_mode": {
    "name": "ipython",
    "version": 3
   },
   "file_extension": ".py",
   "mimetype": "text/x-python",
   "name": "python",
   "nbconvert_exporter": "python",
   "pygments_lexer": "ipython3",
   "version": "3.6.5"
  }
 },
 "nbformat": 4,
 "nbformat_minor": 1
}
